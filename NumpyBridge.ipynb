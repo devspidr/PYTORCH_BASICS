{
 "cells": [
  {
   "cell_type": "code",
   "execution_count": 2,
   "id": "bae1961b-c3c6-473b-b8c7-d9924db3bc97",
   "metadata": {},
   "outputs": [],
   "source": [
    "import numpy as np"
   ]
  },
  {
   "cell_type": "code",
   "execution_count": 9,
   "id": "76843b27-242b-4779-b95e-0ecd1ce411d9",
   "metadata": {},
   "outputs": [
    {
     "name": "stdout",
     "output_type": "stream",
     "text": [
      "tensor([[0.9045, 0.9732, 0.7766, 0.2994],\n",
      "        [0.0439, 0.0113, 0.4614, 0.8749],\n",
      "        [0.6678, 0.7298, 0.2205, 0.5956],\n",
      "        [0.9717, 0.0805, 0.2715, 0.4087]])\n",
      "torch.float32\n"
     ]
    }
   ],
   "source": [
    "r=torch.rand(4,4)\n",
    "print(r)\n",
    "print(r.dtype)"
   ]
  },
  {
   "cell_type": "code",
   "execution_count": 5,
   "id": "7b9726a1-29d7-40db-b257-a8fa77734419",
   "metadata": {},
   "outputs": [
    {
     "name": "stdout",
     "output_type": "stream",
     "text": [
      "tensor([1., 1., 1., 1., 1.])\n",
      "[1. 1. 1. 1. 1.]\n",
      "tensor([2., 2., 2., 2., 2.])\n",
      "[2. 2. 2. 2. 2.]\n"
     ]
    }
   ],
   "source": [
    "#converting a torch tensor into a numpy array\n",
    "a = torch.ones(5)\n",
    "print(a)\n",
    "b=a.numpy()\n",
    "print(b)\n",
    "a.add_(1)\n",
    "print(a)\n",
    "print(b)"
   ]
  },
  {
   "cell_type": "code",
   "execution_count": null,
   "id": "0ba5287d-beb1-48ba-abc3-42811618bfb2",
   "metadata": {},
   "outputs": [],
   "source": []
  },
  {
   "cell_type": "code",
   "execution_count": 6,
   "id": "a2992e62-c3d1-4695-9dc9-eb3fb3e2d8cd",
   "metadata": {},
   "outputs": [
    {
     "name": "stdout",
     "output_type": "stream",
     "text": [
      "[2. 2. 2. 2. 2.]\n",
      "tensor([2., 2., 2., 2., 2.], dtype=torch.float64)\n"
     ]
    }
   ],
   "source": [
    "#converting numpy array to torch tensor\n",
    "\n",
    "a=np.ones(5)\n",
    "b=torch.from_numpy(a)\n",
    "np.add(a,1,out=a)\n",
    "print(a)\n",
    "print(b)"
   ]
  },
  {
   "cell_type": "code",
   "execution_count": 13,
   "id": "694cb4b9-76ba-43a1-9fb1-9404d084c233",
   "metadata": {},
   "outputs": [
    {
     "data": {
      "text/plain": [
       "False"
      ]
     },
     "execution_count": 13,
     "metadata": {},
     "output_type": "execute_result"
    }
   ],
   "source": [
    "#move tensors to gpu\n",
    "torch.cuda.is_available()\n"
   ]
  },
  {
   "cell_type": "code",
   "execution_count": null,
   "id": "59f38336-52f8-4346-970e-1237c942ccd2",
   "metadata": {},
   "outputs": [],
   "source": [
    "r=r.cuda()\n",
    "print(r)"
   ]
  },
  {
   "cell_type": "code",
   "execution_count": 18,
   "id": "9c5c7aeb-3998-43e4-a922-eb5e5b1181fd",
   "metadata": {},
   "outputs": [
    {
     "name": "stdout",
     "output_type": "stream",
     "text": [
      "[2, 3, 4, 5]\n",
      "tensor([2, 3, 4, 5]) torch.int64\n"
     ]
    }
   ],
   "source": [
    "#convert list to tensor\n",
    "\n",
    "a=[2,3,4,5]\n",
    "print(a)\n",
    "to_list=torch.tensor(a)\n",
    "print(to_list,to_list.dtype)"
   ]
  },
  {
   "cell_type": "code",
   "execution_count": 19,
   "id": "54188f9f-f988-426d-8d79-06550674145b",
   "metadata": {},
   "outputs": [
    {
     "name": "stdout",
     "output_type": "stream",
     "text": [
      "Tensor A:\n",
      " tensor([[1, 2],\n",
      "        [3, 4]])\n",
      "Tensor B:\n",
      " tensor([[5, 6],\n",
      "        [7, 8]])\n",
      "\n",
      "Concatenated along dim=0 (rows):\n",
      " tensor([[1, 2],\n",
      "        [3, 4],\n",
      "        [5, 6],\n",
      "        [7, 8]])\n",
      "\n",
      "Concatenated along dim=1 (columns):\n",
      " tensor([[1, 2, 5, 6],\n",
      "        [3, 4, 7, 8]])\n"
     ]
    }
   ],
   "source": [
    "#Tensor concatenation\n",
    "\n",
    "\n",
    "# Step 2: Create two example 2D tensors (like small matrices)\n",
    "tensor_a = torch.tensor([[1, 2],\n",
    "                         [3, 4]])\n",
    "\n",
    "tensor_b = torch.tensor([[5, 6],\n",
    "                         [7, 8]])\n",
    "\n",
    "# Show the original tensors\n",
    "print(\"Tensor A:\\n\", tensor_a)\n",
    "print(\"Tensor B:\\n\", tensor_b)\n",
    "\n",
    "# Step 3: Concatenate along dimension 0 (row-wise)\n",
    "# This stacks them vertically: rows of B are added after rows of A\n",
    "concat_dim0 = torch.cat((tensor_a, tensor_b), dim=0)\n",
    "print(\"\\nConcatenated along dim=0 (rows):\\n\", concat_dim0)\n",
    "\n",
    "# Step 4: Concatenate along dimension 1 (column-wise)\n",
    "# This stacks them horizontally: columns of B are added after columns of A\n",
    "concat_dim1 = torch.cat((tensor_a, tensor_b), dim=1)\n",
    "print(\"\\nConcatenated along dim=1 (columns):\\n\", concat_dim1)\n"
   ]
  },
  {
   "cell_type": "code",
   "execution_count": 20,
   "id": "5a1a63d2-04f4-4fb7-9666-94c33f1a2780",
   "metadata": {},
   "outputs": [
    {
     "name": "stdout",
     "output_type": "stream",
     "text": [
      "torch.Size([3]) torch.Size([1, 3]) torch.Size([3, 1]) torch.Size([3, 1]) torch.Size([1, 3])\n",
      "torch.Size([1, 3]) torch.Size([3, 1]) torch.Size([1, 3]) torch.Size([3, 1])\n"
     ]
    }
   ],
   "source": [
    "import torch\n",
    "\n",
    "x = torch.tensor([1, 2, 3])        # shape: [3]\n",
    "\n",
    "x1 = x.unsqueeze(0)                # shape: [1, 3]\n",
    "x2 = x.unsqueeze(1)                # shape: [3, 1]\n",
    "x3 = x.unsqueeze(-1)               # same as x2, shape: [3, 1]\n",
    "x4 = x.unsqueeze(-2)               # same as x1, shape: [1, 3]\n",
    "\n",
    "x5 = x.view(1, 3)                  # reshape to 2D: [1, 3]\n",
    "x6 = x.view(3, 1)                  # reshape to 2D: [3, 1]\n",
    "\n",
    "x7 = x[None, :]                    # equivalent to unsqueeze(0), shape: [1, 3]\n",
    "x8 = x[:, None]                    # equivalent to unsqueeze(1), shape: [3, 1]\n",
    "\n",
    "print(x.shape, x1.shape, x2.shape, x3.shape, x4.shape)\n",
    "print(x5.shape, x6.shape, x7.shape, x8.shape)\n"
   ]
  },
  {
   "cell_type": "code",
   "execution_count": null,
   "id": "47977869-9450-4b36-9535-a7d15fb93350",
   "metadata": {},
   "outputs": [],
   "source": []
  },
  {
   "cell_type": "code",
   "execution_count": null,
   "id": "dd714b6d-7ff3-4561-982d-25a04e93beb1",
   "metadata": {},
   "outputs": [],
   "source": [
    "#AutoGrad"
   ]
  },
  {
   "cell_type": "code",
   "execution_count": 23,
   "id": "7403b5c6-8395-4a82-ab4a-d8b84947b11f",
   "metadata": {},
   "outputs": [
    {
     "name": "stdout",
     "output_type": "stream",
     "text": [
      "tensor([5., 7., 9.], grad_fn=<AddBackward0>)\n",
      "<AddBackward0 object at 0x0000028F2500D630>\n",
      "tensor(21., grad_fn=<SumBackward0>)\n",
      "<SumBackward0 object at 0x0000028F249F38B0>\n"
     ]
    }
   ],
   "source": [
    "x=torch.tensor([1.,2.,3.], requires_grad=True)\n",
    "y=torch.tensor([4.,5.,6.], requires_grad=True)\n",
    "\n",
    "z=x+y\n",
    "print(z)\n",
    "print(z.grad_fn)\n",
    "s=z.sum()\n",
    "print(s)\n",
    "print(s.grad_fn)"
   ]
  },
  {
   "cell_type": "code",
   "execution_count": 25,
   "id": "7c3babba-be64-4e9a-9e5c-f5ff621c5888",
   "metadata": {},
   "outputs": [
    {
     "name": "stdout",
     "output_type": "stream",
     "text": [
      "tensor([2., 2., 2.])\n"
     ]
    }
   ],
   "source": [
    "#now if we backpropagate on s,we can fing the gradients of s with respect to x\n",
    "\n",
    "s.backward()\n",
    "print(x.grad)"
   ]
  },
  {
   "cell_type": "code",
   "execution_count": 26,
   "id": "f21deb93-7776-40cf-aaee-f3c815194937",
   "metadata": {},
   "outputs": [
    {
     "name": "stdout",
     "output_type": "stream",
     "text": [
      "False False\n",
      "None\n",
      "<AddBackward0 object at 0x0000028F24FFA320>\n",
      "None\n",
      "True\n",
      "True\n",
      "False\n"
     ]
    }
   ],
   "source": [
    "import torch\n",
    "\n",
    "# Create tensors without gradient tracking\n",
    "x = torch.randn(2, 2)\n",
    "y = torch.randn(2, 2)\n",
    "\n",
    "# Check requires_grad (should be False)\n",
    "print(x.requires_grad, y.requires_grad)\n",
    "\n",
    "# Add tensors (no grad_fn since requires_grad=False)\n",
    "z = x + y\n",
    "print(z.grad_fn)  # Output: None\n",
    "\n",
    "# Enable gradient tracking\n",
    "x.requires_grad_()\n",
    "y.requires_grad_()\n",
    "\n",
    "# Add tensors again (now grad_fn is tracked)\n",
    "z = x + y\n",
    "print(z.grad_fn)  # Output: <AddBackward0>\n",
    "\n",
    "# Detach from computation graph\n",
    "new_z = z.detach()\n",
    "print(new_z.grad_fn)  # Output: None\n",
    "\n",
    "# Check requires_grad after operations\n",
    "print(x.requires_grad)                  # True\n",
    "print((x + 10).requires_grad)           # True\n",
    "\n",
    "# Disable grad tracking temporarily\n",
    "with torch.no_grad():\n",
    "    print((x + 10).requires_grad)       # False\n"
   ]
  },
  {
   "cell_type": "code",
   "execution_count": 27,
   "id": "e82d2e14-f487-4088-96cd-e60b5ab9a6bc",
   "metadata": {},
   "outputs": [
    {
     "name": "stdout",
     "output_type": "stream",
     "text": [
      "x:\n",
      " tensor([[1., 1.],\n",
      "        [1., 1.]], requires_grad=True)\n",
      "\n",
      "y:\n",
      " tensor([[3., 3.],\n",
      "        [3., 3.]], grad_fn=<AddBackward0>)\n",
      "\n",
      "y.grad_fn: <AddBackward0 object at 0x0000028F24FF22C0>\n",
      "\n",
      "z:\n",
      " tensor([[27., 27.],\n",
      "        [27., 27.]], grad_fn=<MulBackward0>)\n",
      "\n",
      "out (mean of z): tensor(27., grad_fn=<MeanBackward0>)\n",
      "\n",
      "Gradient of out w.r.t. x:\n",
      " tensor([[4.5000, 4.5000],\n",
      "        [4.5000, 4.5000]])\n"
     ]
    }
   ],
   "source": [
    "import torch\n",
    "\n",
    "# Step 1: Create a tensor with gradient tracking enabled\n",
    "x = torch.ones(2, 2, requires_grad=True)\n",
    "print(\"x:\\n\", x)\n",
    "\n",
    "# Step 2: Perform a computation (creates a new tensor y)\n",
    "y = x + 2\n",
    "print(\"\\ny:\\n\", y)\n",
    "\n",
    "# Step 3: Check the grad_fn (how y was created)\n",
    "print(\"\\ny.grad_fn:\", y.grad_fn)  # Should be AddBackward0\n",
    "\n",
    "# Step 4: More operations on y\n",
    "z = y * y * 3   # same as z = 3 * (x + 2)^2\n",
    "out = z.mean()  # Take mean of all elements\n",
    "print(\"\\nz:\\n\", z)\n",
    "print(\"\\nout (mean of z):\", out)\n",
    "\n",
    "# Step 5: Backpropagation (computes gradients)\n",
    "out.backward()\n",
    "\n",
    "# Step 6: Print gradients w.r.t. x\n",
    "print(\"\\nGradient of out w.r.t. x:\\n\", x.grad)\n"
   ]
  },
  {
   "cell_type": "code",
   "execution_count": null,
   "id": "f0e989e3-288f-4b62-be97-7b3e7b4e2fc3",
   "metadata": {},
   "outputs": [],
   "source": []
  }
 ],
 "metadata": {
  "kernelspec": {
   "display_name": "Python 3 (ipykernel)",
   "language": "python",
   "name": "python3"
  },
  "language_info": {
   "codemirror_mode": {
    "name": "ipython",
    "version": 3
   },
   "file_extension": ".py",
   "mimetype": "text/x-python",
   "name": "python",
   "nbconvert_exporter": "python",
   "pygments_lexer": "ipython3",
   "version": "3.12.4"
  }
 },
 "nbformat": 4,
 "nbformat_minor": 5
}
