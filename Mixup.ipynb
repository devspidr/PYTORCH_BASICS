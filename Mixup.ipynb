{
 "cells": [
  {
   "cell_type": "code",
   "execution_count": 1,
   "id": "ad6b524d-4726-4c83-8c46-a829472c5dd7",
   "metadata": {},
   "outputs": [],
   "source": [
    "from PIL import Image\n",
    "import os\n",
    "from random import randint\n",
    "import numpy as np\n",
    "import matplotlib.pyplot as plt"
   ]
  },
  {
   "cell_type": "code",
   "execution_count": null,
   "id": "267c0871-a5fe-4078-9ab5-6f549f756eaa",
   "metadata": {},
   "outputs": [],
   "source": [
    "img_folder = 'images/val2014/'\n",
    "imgs = os.listdir(img_folder)\n",
    "batch_x = [Image.open(img_folder + p).resize((224,224)) for p in imgs[10:20]]"
   ]
  },
  {
   "cell_type": "code",
   "execution_count": null,
   "id": "6aed2eec-7af4-4106-86bd-c3df8fed4061",
   "metadata": {},
   "outputs": [],
   "source": [
    "def normalize_image(x):\n",
    "    x = x / np.max(x)\n",
    "    mean = np.array([0.485, 0.456, 0.406])\n",
    "    std = np.array([0.229, 0.224, 0.225])\n",
    "    return (x - mean) / std"
   ]
  },
  {
   "cell_type": "code",
   "execution_count": null,
   "id": "1082499b-31e2-4d37-b98e-83db9daf30ea",
   "metadata": {},
   "outputs": [],
   "source": [
    "def denormalize_image(x):\n",
    "    mean = np.array([0.485, 0.456, 0.406])\n",
    "    std = np.array([0.229, 0.224, 0.225])\n",
    "    x = std * x + mean\n",
    "    x = np.clip(x, 0, 1)\n",
    "    return x"
   ]
  },
  {
   "cell_type": "code",
   "execution_count": null,
   "id": "d6bad83a-921e-46ed-8e0a-caf8c92a971a",
   "metadata": {},
   "outputs": [],
   "source": [
    "lam = 0.7\n",
    "batch_size = len(batch_x)\n",
    "current_image = normalize_image(np.array(batch_x[0]))\n",
    "random_index = randint(0, batch_size - 1)\n",
    "random_image_from_batch = normalize_image(np.array(batch_x[random_index]))"
   ]
  },
  {
   "cell_type": "code",
   "execution_count": null,
   "id": "81385d48-8932-4f1c-80e1-0d7d1f442775",
   "metadata": {},
   "outputs": [],
   "source": [
    "plt.imshow(denormalize_image(current_image))\n",
    "plt.axis(\"off\")"
   ]
  },
  {
   "cell_type": "code",
   "execution_count": null,
   "id": "fc8c48e2-9c94-42a4-8ca4-5002ccc1d7df",
   "metadata": {},
   "outputs": [],
   "source": [
    "plt.imshow(denormalize_image(random_image_from_batch))\n",
    "plt.axis(\"off\")"
   ]
  },
  {
   "cell_type": "code",
   "execution_count": null,
   "id": "c03b21b2-43c0-4fb5-8142-bb08657f5ad3",
   "metadata": {},
   "outputs": [],
   "source": [
    "mixed_image = lam * current_image + (1 - lam) * random_image_from_batch"
   ]
  },
  {
   "cell_type": "code",
   "execution_count": null,
   "id": "5b85dd68-fc5a-4016-a513-a36132a9c444",
   "metadata": {},
   "outputs": [],
   "source": [
    "plt.imshow(denormalize_image(mixed_image))\n",
    "plt.axis(\"off\")"
   ]
  },
  {
   "cell_type": "code",
   "execution_count": null,
   "id": "7a70b0b5-ac23-4bb7-8100-5223e1ad82ad",
   "metadata": {},
   "outputs": [],
   "source": [
    "def mixup_data(x, y, alpha=1.0, use_cuda=True):\n",
    "\n",
    "    if alpha > 0:\n",
    "        lam = np.random.beta(alpha, alpha)\n",
    "    else:\n",
    "        lam = 1\n",
    "\n",
    "    batch_size = x.size(0)\n",
    "    index = torch.randperm(batch_size)\n",
    "    mixed_x = lam * x + (1 - lam) * x[index, :]\n",
    "    y_a, y_b = y, y[index]\n",
    "    return mixed_x, y_a, y_b, lam\n",
    "\n",
    "\n",
    "def forward(model, mixed_x, y_a, y_b, lam):\n",
    "    criterion = nn.CrossEntropyLoss()\n",
    "    pred = model(mixed_x)\n",
    "    loss = lam * criterion(pred, y_a) + (1 - lam) * criterion(pred, y_b)\n",
    "    return loss"
   ]
  }
 ],
 "metadata": {
  "kernelspec": {
   "display_name": "Python 3 (ipykernel)",
   "language": "python",
   "name": "python3"
  },
  "language_info": {
   "codemirror_mode": {
    "name": "ipython",
    "version": 3
   },
   "file_extension": ".py",
   "mimetype": "text/x-python",
   "name": "python",
   "nbconvert_exporter": "python",
   "pygments_lexer": "ipython3",
   "version": "3.12.4"
  }
 },
 "nbformat": 4,
 "nbformat_minor": 5
}
