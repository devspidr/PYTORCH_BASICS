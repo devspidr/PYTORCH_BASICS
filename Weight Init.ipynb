{
 "cells": [
  {
   "cell_type": "code",
   "execution_count": 1,
   "id": "0a90de53-8305-4d70-964e-90b1bb51c5ee",
   "metadata": {},
   "outputs": [],
   "source": [
    "import torch\n",
    "import torch.nn as nn"
   ]
  },
  {
   "cell_type": "code",
   "execution_count": 2,
   "id": "acf08ffb-5db7-42ee-a0dd-88b821dd4f6f",
   "metadata": {},
   "outputs": [],
   "source": [
    "layer=nn.Linear(5,5)"
   ]
  },
  {
   "cell_type": "code",
   "execution_count": 5,
   "id": "3f20adff-f5a6-4994-b4f2-354990efca41",
   "metadata": {},
   "outputs": [
    {
     "data": {
      "text/plain": [
       "Parameter containing:\n",
       "tensor([[ 0.1714,  0.0589, -0.3561, -0.2975,  0.1181],\n",
       "        [ 0.2307,  0.3039, -0.2786,  0.3689, -0.3414],\n",
       "        [ 0.2398,  0.0845,  0.4144,  0.2633,  0.3643],\n",
       "        [ 0.0368,  0.0864,  0.3070,  0.2591, -0.2033],\n",
       "        [-0.3340,  0.3619,  0.3606,  0.4442, -0.0570]], requires_grad=True)"
      ]
     },
     "execution_count": 5,
     "metadata": {},
     "output_type": "execute_result"
    }
   ],
   "source": [
    "layer.weight"
   ]
  },
  {
   "cell_type": "code",
   "execution_count": 11,
   "id": "87c75dd3-43b2-4eae-ab24-63512b650b7c",
   "metadata": {},
   "outputs": [
    {
     "data": {
      "text/plain": [
       "tensor([[0.3313, 2.7883, 2.0136, 0.3620, 1.7446],\n",
       "        [0.8797, 2.9807, 1.5487, 2.5566, 1.5918],\n",
       "        [2.4298, 2.5442, 2.9142, 0.9484, 0.1682],\n",
       "        [1.2196, 0.7401, 0.1766, 0.7188, 1.9470],\n",
       "        [0.9467, 0.7874, 1.5623, 2.0583, 2.0315]])"
      ]
     },
     "execution_count": 11,
     "metadata": {},
     "output_type": "execute_result"
    }
   ],
   "source": [
    "#uniform distribution\n",
    "\n",
    "#nn.init.uniform_(tensor,a=0,b=1)\n",
    "nn.init.uniform_(layer.weight.data,a=0,b=3)"
   ]
  },
  {
   "cell_type": "code",
   "execution_count": 12,
   "id": "dba8d233-24cf-4c04-9269-da8fc85d232c",
   "metadata": {},
   "outputs": [
    {
     "data": {
      "text/plain": [
       "tensor([[-8.2915e-01,  1.1143e+00, -5.2904e-01, -1.5101e-03, -2.9665e-01],\n",
       "        [-2.1302e+00,  7.8699e-01, -1.5262e-02, -1.0514e+00, -1.5536e+00],\n",
       "        [-1.9960e-01,  4.1313e-01,  1.3279e+00,  8.2320e-01,  4.8911e-01],\n",
       "        [ 9.5063e-02, -1.9595e-01,  6.1978e-01,  3.9485e-02,  4.6043e-01],\n",
       "        [ 7.7938e-01, -4.7123e-01, -2.3624e-01, -3.6826e-01, -3.6657e-01]])"
      ]
     },
     "execution_count": 12,
     "metadata": {},
     "output_type": "execute_result"
    }
   ],
   "source": [
    "#normal distribution\n",
    "\n",
    "#nn.init.normal_(tensor,mean=0,std=1)\n",
    "nn.init.normal_(layer.weight.data,mean=0,std=1)"
   ]
  },
  {
   "cell_type": "code",
   "execution_count": 13,
   "id": "0d5ee40c-2f86-4f51-b774-4d2c0852bd34",
   "metadata": {},
   "outputs": [
    {
     "data": {
      "text/plain": [
       "tensor([[-0.0173, -0.1704, -0.1739,  0.1156,  0.0616],\n",
       "        [-0.5449, -0.1633, -0.0699,  0.1806, -0.0697],\n",
       "        [-0.1169,  0.0128, -0.1846, -0.0328,  0.1332],\n",
       "        [ 0.0355, -0.0131,  0.1222,  0.0484,  0.0418],\n",
       "        [ 0.3480,  0.2294,  0.2489,  0.0336, -0.1324]])"
      ]
     },
     "execution_count": 13,
     "metadata": {},
     "output_type": "execute_result"
    }
   ],
   "source": [
    "#smaller values\n",
    "\n",
    "nn.init.normal_(layer.weight.data,mean=0,std=0.2)"
   ]
  },
  {
   "cell_type": "code",
   "execution_count": 14,
   "id": "3804117f-e589-4b69-8dcc-881031296313",
   "metadata": {},
   "outputs": [
    {
     "data": {
      "text/plain": [
       "Parameter containing:\n",
       "tensor([0., 0., 0., 0., 0.], requires_grad=True)"
      ]
     },
     "execution_count": 14,
     "metadata": {},
     "output_type": "execute_result"
    }
   ],
   "source": [
    "nn.init.constant_(layer.bias, 0)"
   ]
  },
  {
   "cell_type": "code",
   "execution_count": 16,
   "id": "d70887eb-4498-49c8-8f4a-1fe0783806cb",
   "metadata": {},
   "outputs": [
    {
     "data": {
      "text/plain": [
       "Parameter containing:\n",
       "tensor([0., 0., 0., 0., 0.], requires_grad=True)"
      ]
     },
     "execution_count": 16,
     "metadata": {},
     "output_type": "execute_result"
    }
   ],
   "source": [
    "nn.init.zeros_(layer.bias)"
   ]
  },
  {
   "cell_type": "code",
   "execution_count": 17,
   "id": "9f0243ad-30fd-4474-8579-215e1b935a60",
   "metadata": {},
   "outputs": [
    {
     "data": {
      "text/plain": [
       "Parameter containing:\n",
       "tensor([8., 8., 8., 8., 8.], requires_grad=True)"
      ]
     },
     "execution_count": 17,
     "metadata": {},
     "output_type": "execute_result"
    }
   ],
   "source": [
    "nn.init.constant_(layer.bias, 8)"
   ]
  },
  {
   "cell_type": "code",
   "execution_count": 18,
   "id": "fd6d65a0-481a-4357-9f56-162fb62f2c7b",
   "metadata": {},
   "outputs": [
    {
     "data": {
      "text/plain": [
       "Parameter containing:\n",
       "tensor([8., 8., 8., 8., 8.], requires_grad=True)"
      ]
     },
     "execution_count": 18,
     "metadata": {},
     "output_type": "execute_result"
    }
   ],
   "source": [
    "layer.bias"
   ]
  },
  {
   "cell_type": "code",
   "execution_count": 19,
   "id": "26a1aec8-d7d9-48ad-bf8d-0cd4ce9b391f",
   "metadata": {},
   "outputs": [
    {
     "data": {
      "text/plain": [
       "tensor([[ 0.3431,  0.5964,  0.5723,  0.3257, -0.3811],\n",
       "        [-0.2911,  0.2160, -0.5042,  0.0981,  0.5330],\n",
       "        [ 0.3972, -0.4421,  0.1467, -0.4289,  0.5316],\n",
       "        [ 0.5922, -0.5453,  0.6238,  0.3823,  0.5657],\n",
       "        [-0.5373, -0.7597, -0.6434, -0.7015, -0.0741]])"
      ]
     },
     "execution_count": 19,
     "metadata": {},
     "output_type": "execute_result"
    }
   ],
   "source": [
    "#xavier distribution\n",
    "#torch.nn.init.xavier_uniform_(tensor, gain=1.0, generator=None)\n",
    "\n",
    "torch.nn.init.xavier_uniform_(layer.weight.data, gain=1.0, generator=None)"
   ]
  },
  {
   "cell_type": "code",
   "execution_count": 20,
   "id": "d5b61f98-e6c4-4533-a788-1ec7e220191d",
   "metadata": {},
   "outputs": [
    {
     "data": {
      "text/plain": [
       "tensor([[-0.1658,  0.2686,  0.2852,  0.5705, -0.1487],\n",
       "        [ 0.0728,  0.5245,  0.0788,  0.1713, -0.5748],\n",
       "        [-0.2460,  0.3287, -0.1638,  0.3132, -0.1517],\n",
       "        [ 0.2197,  0.1983,  0.0421,  0.5152, -1.1396],\n",
       "        [ 0.1789,  0.1519,  0.4236, -0.1944, -0.5319]])"
      ]
     },
     "execution_count": 20,
     "metadata": {},
     "output_type": "execute_result"
    }
   ],
   "source": [
    "torch.nn.init.xavier_normal_(layer.weight.data, gain=1.0, generator=None)"
   ]
  },
  {
   "cell_type": "code",
   "execution_count": null,
   "id": "c6a6f57d-95cb-4382-96f6-8faa2b9341c3",
   "metadata": {},
   "outputs": [],
   "source": []
  }
 ],
 "metadata": {
  "kernelspec": {
   "display_name": "Python 3 (ipykernel)",
   "language": "python",
   "name": "python3"
  },
  "language_info": {
   "codemirror_mode": {
    "name": "ipython",
    "version": 3
   },
   "file_extension": ".py",
   "mimetype": "text/x-python",
   "name": "python",
   "nbconvert_exporter": "python",
   "pygments_lexer": "ipython3",
   "version": "3.12.4"
  }
 },
 "nbformat": 4,
 "nbformat_minor": 5
}
