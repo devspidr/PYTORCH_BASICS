{
 "cells": [
  {
   "cell_type": "code",
   "execution_count": 1,
   "id": "7fbd6d56-c011-4363-ad74-1d4fc9857a4e",
   "metadata": {},
   "outputs": [],
   "source": [
    "import torch\n",
    "import torch.nn as nn"
   ]
  },
  {
   "cell_type": "code",
   "execution_count": 3,
   "id": "7497018d-b712-42e4-8ead-b0aebc457cb5",
   "metadata": {},
   "outputs": [
    {
     "name": "stdout",
     "output_type": "stream",
     "text": [
      "tensor([[ 0.7905, -0.2445,  0.2189, -0.6416,  3.0126],\n",
      "        [-2.1067, -0.5788, -2.5010,  0.9603,  0.1629],\n",
      "        [ 1.2672, -0.7073,  0.4163,  0.3323,  0.5623],\n",
      "        [-0.4495,  1.3970, -0.0739,  1.2121, -1.0448]])\n"
     ]
    }
   ],
   "source": [
    "prediction=torch.randn(4,5)\n",
    "print(prediction)"
   ]
  },
  {
   "cell_type": "code",
   "execution_count": 5,
   "id": "da7bad87-e828-48ea-bdc5-5906a793c18d",
   "metadata": {},
   "outputs": [],
   "source": [
    "label=torch.randn(4,5)"
   ]
  },
  {
   "cell_type": "code",
   "execution_count": 21,
   "id": "3a99844c-3355-4f74-9611-4705e6471982",
   "metadata": {},
   "outputs": [],
   "source": [
    "mse = nn.MSELoss(reduction='none')"
   ]
  },
  {
   "cell_type": "code",
   "execution_count": 22,
   "id": "67a72e5d-21fb-4d1f-85d1-530c913e8abc",
   "metadata": {},
   "outputs": [
    {
     "data": {
      "text/plain": [
       "tensor([[2.6847e+00, 3.7790e-01, 1.2519e-01, 9.5778e-03, 3.7143e+00],\n",
       "        [1.1841e+01, 1.8163e-01, 1.0595e+01, 3.1595e+00, 1.8694e+00],\n",
       "        [1.1360e+01, 1.6242e+00, 3.9965e+00, 4.7371e-02, 4.5330e-04],\n",
       "        [3.2033e-01, 3.5005e-02, 1.6538e-01, 4.4521e-08, 2.7713e+00]])"
      ]
     },
     "execution_count": 22,
     "metadata": {},
     "output_type": "execute_result"
    }
   ],
   "source": [
    "loss = mse(prediction,label)\n",
    "loss"
   ]
  },
  {
   "cell_type": "code",
   "execution_count": 23,
   "id": "52deae5b-021d-464f-8a75-df79cce617da",
   "metadata": {},
   "outputs": [
    {
     "data": {
      "text/plain": [
       "tensor(2.7440)"
      ]
     },
     "execution_count": 23,
     "metadata": {},
     "output_type": "execute_result"
    }
   ],
   "source": [
    "mse = nn.MSELoss(reduction='mean')\n",
    "loss = mse(prediction,label)\n",
    "loss"
   ]
  },
  {
   "cell_type": "code",
   "execution_count": 24,
   "id": "7cbcb472-a75d-45c5-8caa-581a941f893c",
   "metadata": {},
   "outputs": [
    {
     "data": {
      "text/plain": [
       "tensor(54.8790)"
      ]
     },
     "execution_count": 24,
     "metadata": {},
     "output_type": "execute_result"
    }
   ],
   "source": [
    "mse = nn.MSELoss(reduction='sum')\n",
    "loss = mse(prediction,label)\n",
    "loss"
   ]
  },
  {
   "cell_type": "code",
   "execution_count": 25,
   "id": "3b6f23ca-02b0-47e1-8e46-f1932314dfe6",
   "metadata": {},
   "outputs": [
    {
     "data": {
      "text/plain": [
       "tensor(2.7440)"
      ]
     },
     "execution_count": 25,
     "metadata": {},
     "output_type": "execute_result"
    }
   ],
   "source": [
    "((prediction-label)**2).mean()"
   ]
  },
  {
   "cell_type": "code",
   "execution_count": 30,
   "id": "787245df-17cf-45f3-b979-f9ee5f8bf3c5",
   "metadata": {},
   "outputs": [
    {
     "data": {
      "text/plain": [
       "tensor([[0., 1., 0., 1., 1.],\n",
       "        [1., 1., 0., 1., 1.],\n",
       "        [0., 1., 0., 0., 1.],\n",
       "        [0., 0., 0., 1., 0.]])"
      ]
     },
     "execution_count": 30,
     "metadata": {},
     "output_type": "execute_result"
    }
   ],
   "source": [
    "label=torch.zeros(4,5).random_(0,2)\n",
    "label"
   ]
  },
  {
   "cell_type": "code",
   "execution_count": 34,
   "id": "eddec5d8-5fb8-4d0b-841f-495875c291a3",
   "metadata": {},
   "outputs": [],
   "source": [
    "sigmoid = nn.Sigmoid()"
   ]
  },
  {
   "cell_type": "code",
   "execution_count": 37,
   "id": "98e05883-8c22-499e-9c3d-cc159bd3ff49",
   "metadata": {},
   "outputs": [
    {
     "data": {
      "text/plain": [
       "tensor(0.8186)"
      ]
     },
     "execution_count": 37,
     "metadata": {},
     "output_type": "execute_result"
    }
   ],
   "source": [
    "bce = nn.BCELoss(reduction='mean')\n",
    "bce(sigmoid(prediction),label)"
   ]
  },
  {
   "cell_type": "code",
   "execution_count": 40,
   "id": "273d65e5-a77f-438c-a1d7-8509e2b20199",
   "metadata": {},
   "outputs": [
    {
     "data": {
      "text/plain": [
       "tensor(0.8186)"
      ]
     },
     "execution_count": 40,
     "metadata": {},
     "output_type": "execute_result"
    }
   ],
   "source": [
    "bces=bce=nn.BCEWithLogitsLoss(reduction='mean')\n",
    "bces((prediction),label)"
   ]
  },
  {
   "cell_type": "code",
   "execution_count": 42,
   "id": "be88e890-ef86-489f-981c-abcb622d03bd",
   "metadata": {},
   "outputs": [
    {
     "data": {
      "text/plain": [
       "array([[0., 1., 0., 1., 1.],\n",
       "       [1., 1., 0., 1., 1.],\n",
       "       [0., 1., 0., 0., 1.],\n",
       "       [0., 0., 0., 1., 0.]], dtype=float32)"
      ]
     },
     "execution_count": 42,
     "metadata": {},
     "output_type": "execute_result"
    }
   ],
   "source": [
    "import numpy as np\n",
    "x=prediction.numpy()\n",
    "y=label.numpy()\n"
   ]
  },
  {
   "cell_type": "code",
   "execution_count": 47,
   "id": "6cafe4ed-99ff-4752-b621-8c7b6a5f7752",
   "metadata": {},
   "outputs": [
    {
     "data": {
      "text/plain": [
       "array([[ 0.79054606, -0.24446227,  0.21886481, -0.6416272 ,  3.0125504 ],\n",
       "       [-2.1066737 , -0.57884496, -2.5009742 ,  0.96027946,  0.16292107],\n",
       "       [ 1.2672343 , -0.70730406,  0.4162808 ,  0.33233863,  0.5622963 ],\n",
       "       [-0.44948187,  1.3970276 , -0.07386688,  1.2121403 , -1.044815  ]],\n",
       "      dtype=float32)"
      ]
     },
     "execution_count": 47,
     "metadata": {},
     "output_type": "execute_result"
    }
   ],
   "source": [
    "x"
   ]
  },
  {
   "cell_type": "code",
   "execution_count": 58,
   "id": "9fa45639-1c37-43a0-9d88-dc5888f11d2c",
   "metadata": {},
   "outputs": [
    {
     "name": "stdout",
     "output_type": "stream",
     "text": [
      "Loss values:\n",
      " 9.21039036947585\n",
      "Loss values:\n",
      " [[1.84206807e+01 1.84206807e+01]\n",
      " [9.99949993e-05 9.99949993e-05]]\n"
     ]
    }
   ],
   "source": [
    "def sigmoid(x):\n",
    "    return 1 / (1 + np.exp(-x))\n",
    "\n",
    "# binary cross entropy\n",
    "loss_values = []\n",
    "\n",
    "epsilon = 1e-8  # to prevent log(0)\n",
    "\n",
    "for i in range(len(y)):\n",
    "    batch_loss = []\n",
    "    for j in range(len(y[0])):\n",
    "        if y[i][j] == 1:\n",
    "            loss = -np.log(x[i][j] + epsilon)\n",
    "        else:\n",
    "            loss = -np.log(1 - x[i][j] + epsilon)\n",
    "\n",
    "        batch_loss.append(loss)\n",
    "    loss_values.append(batch_loss)\n",
    "\n",
    "print(\"Loss values:\\n\", np.mean(loss_values))\n",
    "print(\"Loss values:\\n\", np.array(loss_values))"
   ]
  },
  {
   "cell_type": "code",
   "execution_count": null,
   "id": "0673f413-ce6c-4f14-a01b-e14416bd0997",
   "metadata": {},
   "outputs": [],
   "source": []
  }
 ],
 "metadata": {
  "kernelspec": {
   "display_name": "Python 3 (ipykernel)",
   "language": "python",
   "name": "python3"
  },
  "language_info": {
   "codemirror_mode": {
    "name": "ipython",
    "version": 3
   },
   "file_extension": ".py",
   "mimetype": "text/x-python",
   "name": "python",
   "nbconvert_exporter": "python",
   "pygments_lexer": "ipython3",
   "version": "3.12.4"
  }
 },
 "nbformat": 4,
 "nbformat_minor": 5
}
