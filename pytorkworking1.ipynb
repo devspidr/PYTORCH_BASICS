{
 "cells": [
  {
   "cell_type": "code",
   "execution_count": 2,
   "id": "ac06e077-c1e3-47f5-a8e5-6ffb865f1ae3",
   "metadata": {},
   "outputs": [],
   "source": [
    "import torch"
   ]
  },
  {
   "cell_type": "code",
   "execution_count": 3,
   "id": "43980625-bdf6-4476-9dc1-f9d68b90ce8e",
   "metadata": {},
   "outputs": [],
   "source": [
    "import torchvision"
   ]
  },
  {
   "cell_type": "code",
   "execution_count": 5,
   "id": "68ceab14-d321-40e0-99f1-1d525e7aeede",
   "metadata": {},
   "outputs": [
    {
     "name": "stdout",
     "output_type": "stream",
     "text": [
      "tensor([2, 2, 1])\n"
     ]
    }
   ],
   "source": [
    "# 1d array\n",
    "a=torch.tensor([2,2,1])\n",
    "print(a)"
   ]
  },
  {
   "cell_type": "code",
   "execution_count": 6,
   "id": "a4254387-e030-4b51-967d-42f3bce72557",
   "metadata": {},
   "outputs": [
    {
     "name": "stdout",
     "output_type": "stream",
     "text": [
      "tensor([[2, 2],\n",
      "        [2, 4],\n",
      "        [5, 6]])\n"
     ]
    }
   ],
   "source": [
    "#2d array\n",
    "b=torch.tensor([[2,2],[2,4],[5,6]])\n",
    "print(b)"
   ]
  },
  {
   "cell_type": "code",
   "execution_count": 7,
   "id": "084cb362-f9fc-49c7-82d9-da1d4e347816",
   "metadata": {},
   "outputs": [
    {
     "name": "stdout",
     "output_type": "stream",
     "text": [
      "torch.Size([3])\n",
      "torch.Size([3, 2])\n"
     ]
    }
   ],
   "source": [
    "#size of tensors\n",
    "print(a.shape)\n",
    "print(b.shape)"
   ]
  },
  {
   "cell_type": "code",
   "execution_count": 10,
   "id": "ab00c421-2ade-423e-b093-3bec60c44180",
   "metadata": {},
   "outputs": [
    {
     "name": "stdout",
     "output_type": "stream",
     "text": [
      "3\n"
     ]
    }
   ],
   "source": [
    "print(b.shape[0])"
   ]
  },
  {
   "cell_type": "code",
   "execution_count": 15,
   "id": "79b5896b-201b-46f4-adb9-074a2b7bca07",
   "metadata": {},
   "outputs": [
    {
     "name": "stdout",
     "output_type": "stream",
     "text": [
      "tensor([[0.8334, 0.3827, 0.8823, 0.3007],\n",
      "        [0.0934, 0.4663, 0.2464, 0.4193],\n",
      "        [0.2747, 0.4222, 0.8191, 0.8007],\n",
      "        [0.7566, 0.0674, 0.3077, 0.3618]])\n",
      "torch.float32\n"
     ]
    }
   ],
   "source": [
    "# random numbers\n",
    "r=torch.rand(4,4)\n",
    "print(r)\n",
    "print(r.dtype)"
   ]
  },
  {
   "cell_type": "code",
   "execution_count": 16,
   "id": "4456b986-674e-4dd0-98b9-9cb7cdd981bb",
   "metadata": {},
   "outputs": [
    {
     "name": "stdout",
     "output_type": "stream",
     "text": [
      "tensor([[0.2361, 0.6173, 0.7744, 0.8351],\n",
      "        [0.9825, 0.3015, 0.6994, 0.4139],\n",
      "        [0.3674, 0.9515, 0.0674, 0.7457],\n",
      "        [0.1737, 0.2953, 0.7493, 0.5078]])\n",
      "torch.float32\n"
     ]
    }
   ],
   "source": [
    "# random numbers from normal distribution with mean 0 and sd 1\n",
    "r=torch.rand(4,4)\n",
    "print(r)\n",
    "print(r.dtype)"
   ]
  },
  {
   "cell_type": "code",
   "execution_count": 17,
   "id": "caa480d2-672e-459d-a947-e331e9bafdec",
   "metadata": {},
   "outputs": [
    {
     "name": "stdout",
     "output_type": "stream",
     "text": [
      "tensor([9, 8, 6, 7, 9])\n",
      "torch.int64\n"
     ]
    }
   ],
   "source": [
    "# create an array of 5 random integers from values between 6 and 9 (exclusive of 10)\n",
    "in_array = torch.randint(6,10,(5,))\n",
    "print(in_array)\n",
    "print(in_array.dtype)"
   ]
  },
  {
   "cell_type": "code",
   "execution_count": 19,
   "id": "cca7da49-7bc4-429c-b053-f7809f07ef13",
   "metadata": {},
   "outputs": [
    {
     "name": "stdout",
     "output_type": "stream",
     "text": [
      "tensor([[9, 7, 7],\n",
      "        [7, 7, 6],\n",
      "        [6, 8, 8]])\n"
     ]
    }
   ],
   "source": [
    "# create 2d matrix of size 3x3 with random numbers as above case\n",
    "in_array2=torch.randint(6,10,(3,3))\n",
    "print(in_array2)"
   ]
  },
  {
   "cell_type": "code",
   "execution_count": 21,
   "id": "d9078ec7-065c-41fe-8786-fe50fe468bac",
   "metadata": {},
   "outputs": [
    {
     "name": "stdout",
     "output_type": "stream",
     "text": [
      "5\n",
      "9\n"
     ]
    }
   ],
   "source": [
    "#no of elements\n",
    "print(torch.numel(in_array))\n",
    "print(torch.numel(in_array2))"
   ]
  },
  {
   "cell_type": "code",
   "execution_count": 26,
   "id": "003bd9bd-5ef2-43ec-ad2b-b552ff1904dd",
   "metadata": {},
   "outputs": [
    {
     "name": "stdout",
     "output_type": "stream",
     "text": [
      "tensor([[0, 0, 0],\n",
      "        [0, 0, 0],\n",
      "        [0, 0, 0]])\n",
      "tensor([[1., 1., 1.],\n",
      "        [1., 1., 1.],\n",
      "        [1., 1., 1.]])\n",
      "torch.float32\n"
     ]
    }
   ],
   "source": [
    "# construct 3x3 matrix with zeroes of dtype long\n",
    "z=torch.zeros(3,3,dtype=torch.long)\n",
    "print(z)\n",
    "#with 1s\n",
    "o=torch.ones(3,3)\n",
    "print(o)\n",
    "print(o.dtype)"
   ]
  },
  {
   "cell_type": "code",
   "execution_count": 28,
   "id": "48aa7f75-d0ac-4599-bba8-580021bb4283",
   "metadata": {},
   "outputs": [
    {
     "name": "stdout",
     "output_type": "stream",
     "text": [
      "tensor([[-1.6486, -0.4944, -0.3729, -0.6021],\n",
      "        [ 0.0345,  0.0143,  0.7519, -0.7604],\n",
      "        [-0.6739,  0.5323, -0.9711, -0.9231],\n",
      "        [ 0.4592, -1.1050, -0.3939, -0.8887]], dtype=torch.float64)\n"
     ]
    }
   ],
   "source": [
    "# convert the datatype of tensor\n",
    "r2_like=torch.randn_like(r,dtype=torch.double)\n",
    "print(r2_like)"
   ]
  },
  {
   "cell_type": "code",
   "execution_count": 29,
   "id": "3b57c9ae-2ab1-461e-bead-0e25848306d4",
   "metadata": {},
   "outputs": [
    {
     "name": "stdout",
     "output_type": "stream",
     "text": [
      "tensor([[0.4723, 1.2345, 1.5487, 1.6702],\n",
      "        [1.9651, 0.6029, 1.3987, 0.8278],\n",
      "        [0.7347, 1.9029, 0.1348, 1.4914],\n",
      "        [0.3474, 0.5907, 1.4986, 1.0157]])\n"
     ]
    }
   ],
   "source": [
    "#add two tensors\n",
    "add_result=torch.add(r,r)\n",
    "print(add_result)"
   ]
  },
  {
   "cell_type": "code",
   "execution_count": 31,
   "id": "6efaa12b-5129-4a46-84ba-6d2603cd7ac7",
   "metadata": {},
   "outputs": [
    {
     "name": "stdout",
     "output_type": "stream",
     "text": [
      "tensor([[0.4723, 1.2345, 1.5487, 1.6702],\n",
      "        [1.9651, 0.6029, 1.3987, 0.8278],\n",
      "        [0.7347, 1.9029, 0.1348, 1.4914],\n",
      "        [0.3474, 0.5907, 1.4986, 1.0157]])\n"
     ]
    }
   ],
   "source": [
    "#in place addition (change value of r)\n",
    "r.add_(r)\n",
    "print(r)"
   ]
  },
  {
   "cell_type": "code",
   "execution_count": 33,
   "id": "8ea822ff-fe3a-45b2-a076-9ad3db957445",
   "metadata": {},
   "outputs": [
    {
     "name": "stdout",
     "output_type": "stream",
     "text": [
      "tensor([1.2345, 0.6029, 1.9029, 0.5907])\n",
      "tensor([1.5487, 1.3987, 0.1348, 1.4986])\n",
      "tensor([1.6702, 0.8278, 1.4914, 1.0157])\n",
      "tensor(1.4914)\n",
      "1.4914175271987915\n",
      "tensor([0.7347, 1.9029, 0.1348, 1.4914])\n"
     ]
    }
   ],
   "source": [
    "#operations\n",
    "\n",
    "print(r[:, 1])\n",
    "print(r[:, 2])\n",
    "print(r[:, 3])\n",
    "num_ten = r[2, 3]\n",
    "print(num_ten)\n",
    "print(num_ten.item())\n",
    "print(r[2, :])\n"
   ]
  },
  {
   "cell_type": "code",
   "execution_count": null,
   "id": "b496f48a-417a-4ef9-a447-580b1ce2108c",
   "metadata": {},
   "outputs": [],
   "source": []
  }
 ],
 "metadata": {
  "kernelspec": {
   "display_name": "Python 3 (ipykernel)",
   "language": "python",
   "name": "python3"
  },
  "language_info": {
   "codemirror_mode": {
    "name": "ipython",
    "version": 3
   },
   "file_extension": ".py",
   "mimetype": "text/x-python",
   "name": "python",
   "nbconvert_exporter": "python",
   "pygments_lexer": "ipython3",
   "version": "3.12.4"
  }
 },
 "nbformat": 4,
 "nbformat_minor": 5
}
